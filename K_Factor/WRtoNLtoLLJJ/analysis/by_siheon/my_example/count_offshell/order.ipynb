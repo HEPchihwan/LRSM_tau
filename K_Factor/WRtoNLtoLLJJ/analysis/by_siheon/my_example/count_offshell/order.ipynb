{
 "cells": [
  {
   "cell_type": "code",
   "execution_count": 1,
   "id": "21458951",
   "metadata": {},
   "outputs": [],
   "source": [
    "import pandas as pd\n",
    "\n",
    "# CSV 파일 읽기\n",
    "df = pd.read_csv(\"mass_reco_summary_counts.csv\")  # 파일 이름을 실제 경로로 바꿔주세요\n",
    "\n",
    "# 정렬: WR_mass 오름차순, 그 다음 N_mass 오름차순\n",
    "df_sorted = df.sort_values(by=[\"WR_mass\", \"N_mass\"])\n",
    "\n",
    "# 정렬된 결과 저장 (선|택)\n",
    "df_sorted.to_csv(\"sorted_output.csv\", index=False)\n",
    "\n",
    "\n"
   ]
  },
  {
   "cell_type": "code",
   "execution_count": null,
   "id": "5328766f",
   "metadata": {},
   "outputs": [],
   "source": []
  }
 ],
 "metadata": {
  "kernelspec": {
   "display_name": "lhe_env",
   "language": "python",
   "name": "python3"
  },
  "language_info": {
   "codemirror_mode": {
    "name": "ipython",
    "version": 3
   },
   "file_extension": ".py",
   "mimetype": "text/x-python",
   "name": "python",
   "nbconvert_exporter": "python",
   "pygments_lexer": "ipython3",
   "version": "3.10.16"
  }
 },
 "nbformat": 4,
 "nbformat_minor": 5
}
